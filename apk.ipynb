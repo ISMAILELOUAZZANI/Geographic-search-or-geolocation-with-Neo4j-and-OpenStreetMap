{
 "cells": [
  {
   "cell_type": "code",
   "execution_count": 16,
   "id": "bdda3223",
   "metadata": {},
   "outputs": [
    {
     "name": "stdout",
     "output_type": "stream",
     "text": [
      "Collecting py2neoNote: you may need to restart the kernel to use updated packages.\n",
      "\n",
      "  Downloading py2neo-2021.2.4-py2.py3-none-any.whl.metadata (9.9 kB)\n",
      "Requirement already satisfied: requests in c:\\users\\hp\\anaconda3\\lib\\site-packages (2.32.3)\n",
      "Requirement already satisfied: certifi in c:\\users\\hp\\anaconda3\\lib\\site-packages (from py2neo) (2025.4.26)\n",
      "Collecting interchange~=2021.0.4 (from py2neo)\n",
      "  Downloading interchange-2021.0.4-py2.py3-none-any.whl.metadata (1.9 kB)\n",
      "Collecting monotonic (from py2neo)\n",
      "  Downloading monotonic-1.6-py2.py3-none-any.whl.metadata (1.5 kB)\n",
      "Requirement already satisfied: packaging in c:\\users\\hp\\anaconda3\\lib\\site-packages (from py2neo) (25.0)\n",
      "Collecting pansi>=2020.7.3 (from py2neo)\n",
      "  Downloading pansi-2024.11.0-py2.py3-none-any.whl.metadata (3.1 kB)\n",
      "Requirement already satisfied: pygments>=2.0.0 in c:\\users\\hp\\anaconda3\\lib\\site-packages (from py2neo) (2.15.1)\n",
      "Requirement already satisfied: six>=1.15.0 in c:\\users\\hp\\anaconda3\\lib\\site-packages (from py2neo) (1.17.0)\n",
      "Requirement already satisfied: urllib3 in c:\\users\\hp\\anaconda3\\lib\\site-packages (from py2neo) (2.4.0)\n",
      "Requirement already satisfied: pytz in c:\\users\\hp\\anaconda3\\lib\\site-packages (from interchange~=2021.0.4->py2neo) (2025.2)\n",
      "Requirement already satisfied: charset-normalizer<4,>=2 in c:\\users\\hp\\anaconda3\\lib\\site-packages (from requests) (3.4.2)\n",
      "Requirement already satisfied: idna<4,>=2.5 in c:\\users\\hp\\anaconda3\\lib\\site-packages (from requests) (3.10)\n",
      "Requirement already satisfied: pillow in c:\\users\\hp\\anaconda3\\lib\\site-packages (from pansi>=2020.7.3->py2neo) (11.2.1)\n",
      "Downloading py2neo-2021.2.4-py2.py3-none-any.whl (177 kB)\n",
      "Downloading interchange-2021.0.4-py2.py3-none-any.whl (28 kB)\n",
      "Downloading pansi-2024.11.0-py2.py3-none-any.whl (26 kB)\n",
      "Downloading monotonic-1.6-py2.py3-none-any.whl (8.2 kB)\n",
      "Installing collected packages: monotonic, pansi, interchange, py2neo\n",
      "\n",
      "   ---------- ----------------------------- 1/4 [pansi]\n",
      "   -------------------- ------------------- 2/4 [interchange]\n",
      "   ------------------------------ --------- 3/4 [py2neo]\n",
      "   ------------------------------ --------- 3/4 [py2neo]\n",
      "   ------------------------------ --------- 3/4 [py2neo]\n",
      "   ------------------------------ --------- 3/4 [py2neo]\n",
      "   ------------------------------ --------- 3/4 [py2neo]\n",
      "   ---------------------------------------- 4/4 [py2neo]\n",
      "\n",
      "Successfully installed interchange-2021.0.4 monotonic-1.6 pansi-2024.11.0 py2neo-2021.2.4\n"
     ]
    }
   ],
   "source": [
    "pip install py2neo requests"
   ]
  },
  {
   "cell_type": "code",
   "execution_count": 22,
   "id": "655eb42b",
   "metadata": {},
   "outputs": [],
   "source": [
    "# Étape 2 : Import des modules nécessaires\n",
    "from math import radians, sin, cos, acos\n",
    "from py2neo import Graph, Node, Relationship\n",
    "import requests\n"
   ]
  },
  {
   "cell_type": "code",
   "execution_count": 23,
   "id": "3a374ddc",
   "metadata": {},
   "outputs": [],
   "source": [
    "# Étape 3 : Définition de la position de Fès\n",
    "fes_lat = 34.0331\n",
    "fes_lon = -4.9998\n"
   ]
  },
  {
   "cell_type": "code",
   "execution_count": 24,
   "id": "8ba3eaa5",
   "metadata": {},
   "outputs": [],
   "source": [
    "# Étape 4 : Interroger Overpass API pour les hôtels autour de Fès\n",
    "def query_overpass(latitude, longitude, radius=4000):\n",
    "    overpass_url = \"http://overpass-api.de/api/interpreter\"\n",
    "    overpass_query = f\"\"\"\n",
    "    [out:json];\n",
    "    (\n",
    "      node[\"tourism\"=\"hotel\"](around:{radius},{latitude},{longitude});\n",
    "      way[\"tourism\"=\"hotel\"](around:{radius},{latitude},{longitude});\n",
    "      relation[\"tourism\"=\"hotel\"](around:{radius},{latitude},{longitude});\n",
    "    );\n",
    "    out center;\n",
    "    \"\"\"\n",
    "    response = requests.get(overpass_url, params={'data': overpass_query})\n",
    "    return response.json()\n"
   ]
  },
  {
   "cell_type": "code",
   "execution_count": 25,
   "id": "2dbe32ee",
   "metadata": {},
   "outputs": [],
   "source": [
    "# Étape 5 : Calcul de distance (Haversine simplifié)\n",
    "def calculate_distance(lat1, lon1, lat2, lon2):\n",
    "    lat1, lon1, lat2, lon2 = map(radians, [lat1, lon1, lat2, lon2])\n",
    "    return acos(sin(lat1)*sin(lat2) + cos(lat1)*cos(lat2)*cos(lon2-lon1)) * 6371  # km\n"
   ]
  },
  {
   "cell_type": "code",
   "execution_count": 26,
   "id": "84630635",
   "metadata": {},
   "outputs": [],
   "source": [
    "# Étape 6 : Traitement des résultats en liste de dictionnaires\n",
    "def process_hotels(results, ref_lat, ref_lon):\n",
    "    hotels = []\n",
    "    for element in results.get(\"elements\", []):\n",
    "        name = element.get(\"tags\", {}).get(\"name\", \"Hôtel inconnu\")\n",
    "        lat = element.get(\"lat\") or element.get(\"center\", {}).get(\"lat\")\n",
    "        lon = element.get(\"lon\") or element.get(\"center\", {}).get(\"lon\")\n",
    "        if lat and lon:\n",
    "            distance = calculate_distance(ref_lat, ref_lon, float(lat), float(lon))\n",
    "            hotels.append({\n",
    "                \"name\": name,\n",
    "                \"latitude\": float(lat),\n",
    "                \"longitude\": float(lon),\n",
    "                \"distance\": round(distance, 3)\n",
    "            })\n",
    "    return hotels\n"
   ]
  },
  {
   "cell_type": "code",
   "execution_count": 38,
   "id": "62db36f8",
   "metadata": {},
   "outputs": [],
   "source": [
    "# Étape 7 : Connexion à Neo4j et insertion des données\n",
    "# Remplacez les identifiants ici avec les vôtres\n",
    "graph = Graph(\"bolt://localhost:7687\", auth=(\"neo4j\", \"elouazzani\"))\n",
    "\n",
    "def store_in_neo4j(hotels, ref_lat, ref_lon):\n",
    "    graph.delete_all()  # Nettoyage de la base\n",
    "    \n",
    "    location_node = Node(\"Location\", name=\"Fès\", latitude=ref_lat, longitude=ref_lon)\n",
    "    graph.create(location_node)\n",
    "\n",
    "    for hotel in hotels:\n",
    "        hotel_node = Node(\"Hotel\",\n",
    "                          name=hotel[\"name\"],\n",
    "                          latitude=hotel[\"latitude\"],\n",
    "                          longitude=hotel[\"longitude\"],\n",
    "                          distance=hotel[\"distance\"])\n",
    "        graph.create(hotel_node)\n",
    "        relation = Relationship(location_node, \"IS_NEAR\", hotel_node)\n",
    "        graph.create(relation)\n"
   ]
  },
  {
   "cell_type": "code",
   "execution_count": 36,
   "id": "c634cc49",
   "metadata": {},
   "outputs": [],
   "source": [
    "# Étape 8 : Requête pour obtenir l'hôtel le plus proche\n",
    "def get_closest_hotel():\n",
    "    query = \"\"\"\n",
    "    MATCH (l:Location {name:'Fès'})-[:IS_NEAR]->(h:Hotel)\n",
    "    RETURN h.name AS name, h.distance AS distance\n",
    "    ORDER BY h.distance ASC\n",
    "    LIMIT 1\n",
    "    \"\"\"\n",
    "    result = graph.run(query).data()\n",
    "    return result[0] if result else None\n"
   ]
  },
  {
   "cell_type": "code",
   "execution_count": 37,
   "id": "5984b435",
   "metadata": {},
   "outputs": [
    {
     "ename": "ServiceUnavailable",
     "evalue": "Cannot connect to any known routers",
     "output_type": "error",
     "traceback": [
      "\u001b[1;31m---------------------------------------------------------------------------\u001b[0m",
      "\u001b[1;31mServiceUnavailable\u001b[0m                        Traceback (most recent call last)",
      "Cell \u001b[1;32mIn[37], line 4\u001b[0m\n\u001b[0;32m      2\u001b[0m results \u001b[38;5;241m=\u001b[39m query_overpass(fes_lat, fes_lon)\n\u001b[0;32m      3\u001b[0m hotels \u001b[38;5;241m=\u001b[39m process_hotels(results, fes_lat, fes_lon)\n\u001b[1;32m----> 4\u001b[0m store_in_neo4j(hotels, fes_lat, fes_lon)\n\u001b[0;32m      6\u001b[0m closest \u001b[38;5;241m=\u001b[39m get_closest_hotel()\n\u001b[0;32m      7\u001b[0m \u001b[38;5;28;01mif\u001b[39;00m closest:\n",
      "Cell \u001b[1;32mIn[35], line 6\u001b[0m, in \u001b[0;36mstore_in_neo4j\u001b[1;34m(hotels, ref_lat, ref_lon)\u001b[0m\n\u001b[0;32m      5\u001b[0m \u001b[38;5;28;01mdef\u001b[39;00m \u001b[38;5;21mstore_in_neo4j\u001b[39m(hotels, ref_lat, ref_lon):\n\u001b[1;32m----> 6\u001b[0m     graph\u001b[38;5;241m.\u001b[39mdelete_all()  \u001b[38;5;66;03m# Nettoyage de la base\u001b[39;00m\n\u001b[0;32m      8\u001b[0m     location_node \u001b[38;5;241m=\u001b[39m Node(\u001b[38;5;124m\"\u001b[39m\u001b[38;5;124mLocation\u001b[39m\u001b[38;5;124m\"\u001b[39m, name\u001b[38;5;241m=\u001b[39m\u001b[38;5;124m\"\u001b[39m\u001b[38;5;124mFès\u001b[39m\u001b[38;5;124m\"\u001b[39m, latitude\u001b[38;5;241m=\u001b[39mref_lat, longitude\u001b[38;5;241m=\u001b[39mref_lon)\n\u001b[0;32m      9\u001b[0m     graph\u001b[38;5;241m.\u001b[39mcreate(location_node)\n",
      "File \u001b[1;32mc:\\Users\\hp\\anaconda3\\Lib\\site-packages\\py2neo\\database.py:575\u001b[0m, in \u001b[0;36mGraph.delete_all\u001b[1;34m(self)\u001b[0m\n\u001b[0;32m    568\u001b[0m \u001b[38;5;28;01mdef\u001b[39;00m \u001b[38;5;21mdelete_all\u001b[39m(\u001b[38;5;28mself\u001b[39m):\n\u001b[0;32m    569\u001b[0m \u001b[38;5;250m    \u001b[39m\u001b[38;5;124;03m\"\"\" Delete all nodes and relationships from this :class:`.Graph`.\u001b[39;00m\n\u001b[0;32m    570\u001b[0m \n\u001b[0;32m    571\u001b[0m \u001b[38;5;124;03m    .. warning::\u001b[39;00m\n\u001b[0;32m    572\u001b[0m \u001b[38;5;124;03m        This method will permanently remove **all** nodes and relationships\u001b[39;00m\n\u001b[0;32m    573\u001b[0m \u001b[38;5;124;03m        from the graph and cannot be undone.\u001b[39;00m\n\u001b[0;32m    574\u001b[0m \u001b[38;5;124;03m    \"\"\"\u001b[39;00m\n\u001b[1;32m--> 575\u001b[0m     \u001b[38;5;28mself\u001b[39m\u001b[38;5;241m.\u001b[39mrun(\u001b[38;5;124m\"\u001b[39m\u001b[38;5;124mMATCH (a) DETACH DELETE a\u001b[39m\u001b[38;5;124m\"\u001b[39m)\n",
      "File \u001b[1;32mc:\\Users\\hp\\anaconda3\\Lib\\site-packages\\py2neo\\database.py:405\u001b[0m, in \u001b[0;36mGraph.run\u001b[1;34m(self, cypher, parameters, **kwparameters)\u001b[0m\n\u001b[0;32m    395\u001b[0m \u001b[38;5;28;01mdef\u001b[39;00m \u001b[38;5;21mrun\u001b[39m(\u001b[38;5;28mself\u001b[39m, cypher, parameters\u001b[38;5;241m=\u001b[39m\u001b[38;5;28;01mNone\u001b[39;00m, \u001b[38;5;241m*\u001b[39m\u001b[38;5;241m*\u001b[39mkwparameters):\n\u001b[0;32m    396\u001b[0m \u001b[38;5;250m    \u001b[39m\u001b[38;5;124;03m\"\"\" Run a single read/write query within an auto-commit\u001b[39;00m\n\u001b[0;32m    397\u001b[0m \u001b[38;5;124;03m    :class:`~py2neo.Transaction`.\u001b[39;00m\n\u001b[0;32m    398\u001b[0m \n\u001b[1;32m   (...)\u001b[0m\n\u001b[0;32m    403\u001b[0m \u001b[38;5;124;03m    :return:\u001b[39;00m\n\u001b[0;32m    404\u001b[0m \u001b[38;5;124;03m    \"\"\"\u001b[39;00m\n\u001b[1;32m--> 405\u001b[0m     \u001b[38;5;28;01mreturn\u001b[39;00m \u001b[38;5;28mself\u001b[39m\u001b[38;5;241m.\u001b[39mauto()\u001b[38;5;241m.\u001b[39mrun(cypher, parameters, \u001b[38;5;241m*\u001b[39m\u001b[38;5;241m*\u001b[39mkwparameters)\n",
      "File \u001b[1;32mc:\\Users\\hp\\anaconda3\\Lib\\site-packages\\py2neo\\database.py:989\u001b[0m, in \u001b[0;36mTransaction.run\u001b[1;34m(self, cypher, parameters, **kwparameters)\u001b[0m\n\u001b[0;32m    987\u001b[0m     result \u001b[38;5;241m=\u001b[39m \u001b[38;5;28mself\u001b[39m\u001b[38;5;241m.\u001b[39m_connector\u001b[38;5;241m.\u001b[39mrun(\u001b[38;5;28mself\u001b[39m\u001b[38;5;241m.\u001b[39mref, cypher, parameters)\n\u001b[0;32m    988\u001b[0m \u001b[38;5;28;01melse\u001b[39;00m:\n\u001b[1;32m--> 989\u001b[0m     result \u001b[38;5;241m=\u001b[39m \u001b[38;5;28mself\u001b[39m\u001b[38;5;241m.\u001b[39m_connector\u001b[38;5;241m.\u001b[39mauto_run(cypher, parameters,\n\u001b[0;32m    990\u001b[0m                                       graph_name\u001b[38;5;241m=\u001b[39m\u001b[38;5;28mself\u001b[39m\u001b[38;5;241m.\u001b[39mgraph\u001b[38;5;241m.\u001b[39mname,\n\u001b[0;32m    991\u001b[0m                                       readonly\u001b[38;5;241m=\u001b[39m\u001b[38;5;28mself\u001b[39m\u001b[38;5;241m.\u001b[39mreadonly)\n\u001b[0;32m    992\u001b[0m \u001b[38;5;28mself\u001b[39m\u001b[38;5;241m.\u001b[39m_connector\u001b[38;5;241m.\u001b[39mpull(result, \u001b[38;5;241m-\u001b[39m\u001b[38;5;241m1\u001b[39m)\n\u001b[0;32m    993\u001b[0m \u001b[38;5;28;01mreturn\u001b[39;00m Cursor(result, hydrant)\n",
      "File \u001b[1;32mc:\\Users\\hp\\anaconda3\\Lib\\site-packages\\py2neo\\client\\__init__.py:1338\u001b[0m, in \u001b[0;36mConnector.auto_run\u001b[1;34m(self, cypher, parameters, graph_name, readonly)\u001b[0m\n\u001b[0;32m   1321\u001b[0m \u001b[38;5;28;01mdef\u001b[39;00m \u001b[38;5;21mauto_run\u001b[39m(\u001b[38;5;28mself\u001b[39m, cypher, parameters\u001b[38;5;241m=\u001b[39m\u001b[38;5;28;01mNone\u001b[39;00m, graph_name\u001b[38;5;241m=\u001b[39m\u001b[38;5;28;01mNone\u001b[39;00m, readonly\u001b[38;5;241m=\u001b[39m\u001b[38;5;28;01mFalse\u001b[39;00m,\n\u001b[0;32m   1322\u001b[0m              \u001b[38;5;66;03m# after=None, metadata=None, timeout=None\u001b[39;00m\n\u001b[0;32m   1323\u001b[0m              ):\n\u001b[0;32m   1324\u001b[0m \u001b[38;5;250m    \u001b[39m\u001b[38;5;124;03m\"\"\" Run a Cypher query within a new auto-commit transaction.\u001b[39;00m\n\u001b[0;32m   1325\u001b[0m \n\u001b[0;32m   1326\u001b[0m \u001b[38;5;124;03m    :param cypher:\u001b[39;00m\n\u001b[1;32m   (...)\u001b[0m\n\u001b[0;32m   1336\u001b[0m \u001b[38;5;124;03m        cannot be honoured\u001b[39;00m\n\u001b[0;32m   1337\u001b[0m \u001b[38;5;124;03m    \"\"\"\u001b[39;00m\n\u001b[1;32m-> 1338\u001b[0m     cx \u001b[38;5;241m=\u001b[39m \u001b[38;5;28mself\u001b[39m\u001b[38;5;241m.\u001b[39m_acquire(graph_name)\n\u001b[0;32m   1339\u001b[0m     \u001b[38;5;28;01mtry\u001b[39;00m:\n\u001b[0;32m   1340\u001b[0m         \u001b[38;5;28;01mreturn\u001b[39;00m cx\u001b[38;5;241m.\u001b[39mauto_run(cypher, parameters, graph_name\u001b[38;5;241m=\u001b[39mgraph_name, readonly\u001b[38;5;241m=\u001b[39mreadonly)\n",
      "File \u001b[1;32mc:\\Users\\hp\\anaconda3\\Lib\\site-packages\\py2neo\\client\\__init__.py:1111\u001b[0m, in \u001b[0;36mConnector._acquire\u001b[1;34m(self, graph_name, readonly)\u001b[0m\n\u001b[0;32m   1109\u001b[0m     \u001b[38;5;28;01mreturn\u001b[39;00m \u001b[38;5;28mself\u001b[39m\u001b[38;5;241m.\u001b[39m_acquire_ro(graph_name)\n\u001b[0;32m   1110\u001b[0m \u001b[38;5;28;01melse\u001b[39;00m:\n\u001b[1;32m-> 1111\u001b[0m     \u001b[38;5;28;01mreturn\u001b[39;00m \u001b[38;5;28mself\u001b[39m\u001b[38;5;241m.\u001b[39m_acquire_rw(graph_name)\n",
      "File \u001b[1;32mc:\\Users\\hp\\anaconda3\\Lib\\site-packages\\py2neo\\client\\__init__.py:1203\u001b[0m, in \u001b[0;36mConnector._acquire_rw\u001b[1;34m(self, graph_name)\u001b[0m\n\u001b[0;32m   1199\u001b[0m \u001b[38;5;66;03m# TODO: exit immediately if the server/cluster is in readonly mode\u001b[39;00m\n\u001b[0;32m   1201\u001b[0m \u001b[38;5;28;01mwhile\u001b[39;00m \u001b[38;5;28;01mTrue\u001b[39;00m:\n\u001b[1;32m-> 1203\u001b[0m     ro_profiles, rw_profiles \u001b[38;5;241m=\u001b[39m \u001b[38;5;28mself\u001b[39m\u001b[38;5;241m.\u001b[39m_get_profiles(graph_name, readonly\u001b[38;5;241m=\u001b[39m\u001b[38;5;28;01mFalse\u001b[39;00m)\n\u001b[0;32m   1204\u001b[0m     \u001b[38;5;28;01mif\u001b[39;00m rw_profiles:\n\u001b[0;32m   1205\u001b[0m         \u001b[38;5;66;03m# There is at least one writer, so collect the pools\u001b[39;00m\n\u001b[0;32m   1206\u001b[0m         \u001b[38;5;66;03m# for those writers. In all implementations to date,\u001b[39;00m\n\u001b[0;32m   1207\u001b[0m         \u001b[38;5;66;03m# a Neo4j cluster will only ever contain at most one\u001b[39;00m\n\u001b[0;32m   1208\u001b[0m         \u001b[38;5;66;03m# writer (per database). But this algorithm should\u001b[39;00m\n\u001b[0;32m   1209\u001b[0m         \u001b[38;5;66;03m# still survive if that changes.\u001b[39;00m\n\u001b[0;32m   1210\u001b[0m         pools \u001b[38;5;241m=\u001b[39m [pool \u001b[38;5;28;01mfor\u001b[39;00m profile, pool \u001b[38;5;129;01min\u001b[39;00m \u001b[38;5;28mlist\u001b[39m(\u001b[38;5;28mself\u001b[39m\u001b[38;5;241m.\u001b[39m_pools\u001b[38;5;241m.\u001b[39mitems())\n\u001b[0;32m   1211\u001b[0m                  \u001b[38;5;28;01mif\u001b[39;00m profile \u001b[38;5;129;01min\u001b[39;00m rw_profiles]\n",
      "File \u001b[1;32mc:\\Users\\hp\\anaconda3\\Lib\\site-packages\\py2neo\\client\\__init__.py:1016\u001b[0m, in \u001b[0;36mConnector._get_profiles\u001b[1;34m(self, graph_name, readonly)\u001b[0m\n\u001b[0;32m   1014\u001b[0m         rt\u001b[38;5;241m.\u001b[39mwait_until_updated()\n\u001b[0;32m   1015\u001b[0m \u001b[38;5;28;01melse\u001b[39;00m:\n\u001b[1;32m-> 1016\u001b[0m     \u001b[38;5;28mself\u001b[39m\u001b[38;5;241m.\u001b[39mrefresh_routing_table(graph_name)\n",
      "File \u001b[1;32mc:\\Users\\hp\\anaconda3\\Lib\\site-packages\\py2neo\\client\\__init__.py:1064\u001b[0m, in \u001b[0;36mConnector.refresh_routing_table\u001b[1;34m(self, graph_name)\u001b[0m\n\u001b[0;32m   1062\u001b[0m                 cx\u001b[38;5;241m.\u001b[39mrelease()\n\u001b[0;32m   1063\u001b[0m     \u001b[38;5;28;01melse\u001b[39;00m:\n\u001b[1;32m-> 1064\u001b[0m         \u001b[38;5;28;01mraise\u001b[39;00m ServiceUnavailable(\u001b[38;5;124m\"\u001b[39m\u001b[38;5;124mCannot connect to any known routers\u001b[39m\u001b[38;5;124m\"\u001b[39m)\n\u001b[0;32m   1065\u001b[0m \u001b[38;5;28;01mfinally\u001b[39;00m:\n\u001b[0;32m   1066\u001b[0m     rt\u001b[38;5;241m.\u001b[39mset_not_updating()\n",
      "\u001b[1;31mServiceUnavailable\u001b[0m: Cannot connect to any known routers"
     ]
    }
   ],
   "source": [
    "# Étape 9 : Lancement du processus complet\n",
    "results = query_overpass(fes_lat, fes_lon)\n",
    "hotels = process_hotels(results, fes_lat, fes_lon)\n",
    "store_in_neo4j(hotels, fes_lat, fes_lon)\n",
    "\n",
    "closest = get_closest_hotel()\n",
    "if closest:\n",
    "    print(\"✅ Hôtel le plus proche de Fès :\")\n",
    "    print(f\"🏨 {closest['name']}\")\n",
    "    print(f\"📏 Distance : {closest['distance']} km\")\n",
    "else:\n",
    "    print(\"Aucun hôtel trouvé.\")\n"
   ]
  }
 ],
 "metadata": {
  "kernelspec": {
   "display_name": "base",
   "language": "python",
   "name": "python3"
  },
  "language_info": {
   "codemirror_mode": {
    "name": "ipython",
    "version": 3
   },
   "file_extension": ".py",
   "mimetype": "text/x-python",
   "name": "python",
   "nbconvert_exporter": "python",
   "pygments_lexer": "ipython3",
   "version": "3.12.3"
  }
 },
 "nbformat": 4,
 "nbformat_minor": 5
}
