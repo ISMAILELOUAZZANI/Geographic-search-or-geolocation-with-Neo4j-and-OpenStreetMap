{
 "cells": [
  {
   "cell_type": "code",
   "execution_count": 1,
   "id": "b7daeb42-0366-4974-b0c7-384517a603b1",
   "metadata": {},
   "outputs": [
    {
     "name": "stdout",
     "output_type": "stream",
     "text": [
      "Requirement already satisfied: networkx in c:\\users\\hp\\anaconda3\\lib\\site-packages (3.4.2)Note: you may need to restart the kernel to use updated packages.\n",
      "\n",
      "Requirement already satisfied: shapely in c:\\users\\hp\\anaconda3\\lib\\site-packages (2.1.0)\n",
      "Requirement already satisfied: geopy in c:\\users\\hp\\anaconda3\\lib\\site-packages (2.4.1)\n",
      "Requirement already satisfied: neo4j in c:\\users\\hp\\anaconda3\\lib\\site-packages (5.28.1)\n",
      "Requirement already satisfied: numpy in c:\\users\\hp\\anaconda3\\lib\\site-packages (1.26.4)\n",
      "Requirement already satisfied: geographiclib<3,>=1.52 in c:\\users\\hp\\anaconda3\\lib\\site-packages (from geopy) (2.0)\n",
      "Requirement already satisfied: pytz in c:\\users\\hp\\anaconda3\\lib\\site-packages (from neo4j) (2025.2)\n"
     ]
    }
   ],
   "source": [
    "pip install networkx shapely geopy neo4j numpy"
   ]
  },
  {
   "cell_type": "code",
   "execution_count": 2,
   "id": "dd0152f8-c57a-4e0b-8d44-1031a2204753",
   "metadata": {},
   "outputs": [
    {
     "name": "stdout",
     "output_type": "stream",
     "text": [
      "Requirement already satisfied: osmnx in c:\\users\\hp\\anaconda3\\lib\\site-packages (2.0.3)\n",
      "Requirement already satisfied: geopandas>=1.0 in c:\\users\\hp\\anaconda3\\lib\\site-packages (from osmnx) (1.1.0)\n",
      "Requirement already satisfied: networkx>=2.5 in c:\\users\\hp\\anaconda3\\lib\\site-packages (from osmnx) (3.4.2)\n",
      "Requirement already satisfied: numpy>=1.22 in c:\\users\\hp\\anaconda3\\lib\\site-packages (from osmnx) (1.26.4)\n",
      "Requirement already satisfied: pandas>=1.4 in c:\\users\\hp\\anaconda3\\lib\\site-packages (from osmnx) (2.2.3)\n",
      "Requirement already satisfied: requests>=2.27 in c:\\users\\hp\\anaconda3\\lib\\site-packages (from osmnx) (2.32.3)\n",
      "Requirement already satisfied: shapely>=2.0 in c:\\users\\hp\\anaconda3\\lib\\site-packages (from osmnx) (2.1.0)\n",
      "Requirement already satisfied: pyogrio>=0.7.2 in c:\\users\\hp\\anaconda3\\lib\\site-packages (from geopandas>=1.0->osmnx) (0.11.0)\n",
      "Requirement already satisfied: packaging in c:\\users\\hp\\anaconda3\\lib\\site-packages (from geopandas>=1.0->osmnx) (25.0)\n",
      "Requirement already satisfied: pyproj>=3.5.0 in c:\\users\\hp\\anaconda3\\lib\\site-packages (from geopandas>=1.0->osmnx) (3.7.1)\n",
      "Requirement already satisfied: python-dateutil>=2.8.2 in c:\\users\\hp\\anaconda3\\lib\\site-packages (from pandas>=1.4->osmnx) (2.9.0.post0)\n",
      "Requirement already satisfied: pytz>=2020.1 in c:\\users\\hp\\anaconda3\\lib\\site-packages (from pandas>=1.4->osmnx) (2025.2)\n",
      "Requirement already satisfied: tzdata>=2022.7 in c:\\users\\hp\\anaconda3\\lib\\site-packages (from pandas>=1.4->osmnx) (2025.2)\n",
      "Requirement already satisfied: certifi in c:\\users\\hp\\anaconda3\\lib\\site-packages (from pyogrio>=0.7.2->geopandas>=1.0->osmnx) (2025.4.26)\n",
      "Requirement already satisfied: six>=1.5 in c:\\users\\hp\\anaconda3\\lib\\site-packages (from python-dateutil>=2.8.2->pandas>=1.4->osmnx) (1.17.0)\n",
      "Requirement already satisfied: charset-normalizer<4,>=2 in c:\\users\\hp\\anaconda3\\lib\\site-packages (from requests>=2.27->osmnx) (3.4.2)\n",
      "Requirement already satisfied: idna<4,>=2.5 in c:\\users\\hp\\anaconda3\\lib\\site-packages (from requests>=2.27->osmnx) (3.10)\n",
      "Requirement already satisfied: urllib3<3,>=1.21.1 in c:\\users\\hp\\anaconda3\\lib\\site-packages (from requests>=2.27->osmnx) (2.4.0)\n",
      "Note: you may need to restart the kernel to use updated packages.\n"
     ]
    }
   ],
   "source": [
    "pip install osmnx"
   ]
  },
  {
   "cell_type": "code",
   "execution_count": 3,
   "id": "13b27bdd-4a77-4ffe-b906-92d3eb4ae033",
   "metadata": {},
   "outputs": [
    {
     "name": "stdout",
     "output_type": "stream",
     "text": [
      "Requirement already satisfied: numpy in c:\\users\\hp\\anaconda3\\lib\\site-packages (1.26.4)Note: you may need to restart the kernel to use updated packages.\n",
      "\n",
      "Requirement already satisfied: scipy in c:\\users\\hp\\anaconda3\\lib\\site-packages (1.15.3)\n"
     ]
    }
   ],
   "source": [
    "pip install numpy scipy"
   ]
  },
  {
   "cell_type": "code",
   "execution_count": 4,
   "id": "77a66689-f126-43f5-8f54-7fa0862b275d",
   "metadata": {},
   "outputs": [
    {
     "name": "stderr",
     "output_type": "stream",
     "text": [
      "C:\\Users\\hp\\anaconda3\\Lib\\site-packages\\pyproj\\network.py:59: UserWarning: pyproj unable to set PROJ database path.\n",
      "  _set_context_ca_bundle_path(ca_bundle_path)\n"
     ]
    }
   ],
   "source": [
    "# Importer les bibliothèques nécessaires\n",
    "import osmnx as ox  # Bibliothèque pour récupérer et visualiser les réseaux de rues à partir d'OpenStreetMap\n",
    "import networkx as nx  # Bibliothèque pour créer et gérer des réseaux/graphes complexes\n",
    "from shapely.geometry import Point, LineString, MultiLineString  # Pour les opérations géométriques\n",
    "from scipy.spatial import distance  # Pour les calculs de distance spatiale\n",
    "from geopy.distance import geodesic  # Pour les calculs de distance géodésique (à la surface de la Terre)\n",
    "from neo4j import GraphDatabase  # Pilote de base de données Neo4j\n",
    "import numpy as np  # Pour les opérations numériques"
   ]
  },
  {
   "cell_type": "code",
   "execution_count": 7,
   "id": "66a90386-c573-4b8a-9c95-997a154c8064",
   "metadata": {},
   "outputs": [
    {
     "name": "stdout",
     "output_type": "stream",
     "text": [
      "Requirement already satisfied: osmnx in c:\\users\\hp\\anaconda3\\lib\\site-packages (2.0.3)\n",
      "Requirement already satisfied: networkx in c:\\users\\hp\\anaconda3\\lib\\site-packages (3.4.2)\n",
      "Requirement already satisfied: shapely in c:\\users\\hp\\anaconda3\\lib\\site-packages (2.1.0)\n",
      "Requirement already satisfied: scipy in c:\\users\\hp\\anaconda3\\lib\\site-packages (1.15.3)\n",
      "Requirement already satisfied: geopy in c:\\users\\hp\\anaconda3\\lib\\site-packages (2.4.1)\n",
      "Requirement already satisfied: neo4j in c:\\users\\hp\\anaconda3\\lib\\site-packages (5.28.1)\n",
      "Requirement already satisfied: geopandas>=1.0 in c:\\users\\hp\\anaconda3\\lib\\site-packages (from osmnx) (1.1.0)\n",
      "Requirement already satisfied: numpy>=1.22 in c:\\users\\hp\\anaconda3\\lib\\site-packages (from osmnx) (1.26.4)\n",
      "Requirement already satisfied: pandas>=1.4 in c:\\users\\hp\\anaconda3\\lib\\site-packages (from osmnx) (2.2.3)\n",
      "Requirement already satisfied: requests>=2.27 in c:\\users\\hp\\anaconda3\\lib\\site-packages (from osmnx) (2.32.3)\n",
      "Requirement already satisfied: geographiclib<3,>=1.52 in c:\\users\\hp\\anaconda3\\lib\\site-packages (from geopy) (2.0)\n",
      "Requirement already satisfied: pytz in c:\\users\\hp\\anaconda3\\lib\\site-packages (from neo4j) (2025.2)\n",
      "Requirement already satisfied: pyogrio>=0.7.2 in c:\\users\\hp\\anaconda3\\lib\\site-packages (from geopandas>=1.0->osmnx) (0.11.0)\n",
      "Requirement already satisfied: packaging in c:\\users\\hp\\anaconda3\\lib\\site-packages (from geopandas>=1.0->osmnx) (25.0)\n",
      "Requirement already satisfied: pyproj>=3.5.0 in c:\\users\\hp\\anaconda3\\lib\\site-packages (from geopandas>=1.0->osmnx) (3.7.1)\n",
      "Requirement already satisfied: python-dateutil>=2.8.2 in c:\\users\\hp\\anaconda3\\lib\\site-packages (from pandas>=1.4->osmnx) (2.9.0.post0)\n",
      "Requirement already satisfied: tzdata>=2022.7 in c:\\users\\hp\\anaconda3\\lib\\site-packages (from pandas>=1.4->osmnx) (2025.2)\n",
      "Requirement already satisfied: certifi in c:\\users\\hp\\anaconda3\\lib\\site-packages (from pyogrio>=0.7.2->geopandas>=1.0->osmnx) (2025.4.26)\n",
      "Requirement already satisfied: six>=1.5 in c:\\users\\hp\\anaconda3\\lib\\site-packages (from python-dateutil>=2.8.2->pandas>=1.4->osmnx) (1.17.0)\n",
      "Requirement already satisfied: charset-normalizer<4,>=2 in c:\\users\\hp\\anaconda3\\lib\\site-packages (from requests>=2.27->osmnx) (3.4.2)\n",
      "Requirement already satisfied: idna<4,>=2.5 in c:\\users\\hp\\anaconda3\\lib\\site-packages (from requests>=2.27->osmnx) (3.10)\n",
      "Requirement already satisfied: urllib3<3,>=1.21.1 in c:\\users\\hp\\anaconda3\\lib\\site-packages (from requests>=2.27->osmnx) (2.4.0)\n",
      "Note: you may need to restart the kernel to use updated packages.\n"
     ]
    }
   ],
   "source": [
    "pip install osmnx networkx shapely scipy geopy neo4j"
   ]
  },
  {
   "cell_type": "code",
   "execution_count": 9,
   "id": "7d678075-114e-419b-98bf-7d2dec74c074",
   "metadata": {},
   "outputs": [],
   "source": [
    "import numpy as np\n",
    "from shapely.geometry import Point, LineString\n",
    "from geopy.distance import geodesic\n",
    "\n",
    "def calculate_distance(point1, point2):\n",
    "    # Euclidean distance between two points\n",
    "    return np.sqrt((point1[0] - point2[0])**2 + (point1[1] - point2[1])**2)\n",
    "\n",
    "def calculate_distance_in_meters(point1, point2):\n",
    "    # Distance between points in meters (using a placeholder conversion)\n",
    "    return calculate_distance(point1, point2) * 1000\n",
    "\n",
    "def add_hotel_node(G, osmid, hotel_point):\n",
    "    # Add a hotel node to the graph\n",
    "    print('osmid : ', osmid)\n",
    "    G.add_node(osmid, x=hotel_point.x, y=hotel_point.y, osmid=osmid)\n",
    "    G.nodes[osmid]['hotel'] = 'yes'\n",
    "\n",
    "def calculate_linestring_distance_in_meters(coords):\n",
    "    # Total distance along a LineString in meters\n",
    "    total_distance = 0.0\n",
    "    for i in range(len(coords) - 1):\n",
    "        distance = geodesic(coords[i], coords[i + 1]).meters\n",
    "        total_distance += distance\n",
    "    return total_distance\n",
    "\n",
    "def calculate_distance(coord1, coord2):\n",
    "    # Geodesic distance between two coordinates in meters\n",
    "    return geodesic(coord1, coord2).meters\n",
    "\n",
    "def linestring_to_list(geometry):\n",
    "    # Convert LineString to list of coordinates\n",
    "    return list(geometry.coords) if isinstance(geometry, LineString) else None\n",
    "\n",
    "def projection_point_on_line(x1, y1, x2, y2, x3, y3):\n",
    "    # Project point C onto line AB\n",
    "    ABx, ABy = x2 - x1, y2 - y1\n",
    "    ACx, ACy = x3 - x1, y3 - y1\n",
    "    t = (ACx * ABx + ACy * ABy) / (ABx**2 + ABy**2)\n",
    "    return x1 + t * ABx, y1 + t * ABy\n",
    "\n",
    "def find_nearest_point(hotel_node, edge):\n",
    "    # Find closest point on edge to hotel node\n",
    "    distance, nearest_point = float('inf'), None\n",
    "    for point in list(edge.coords):\n",
    "        current_distance = geodesic((hotel_node.y, hotel_node.x), (point[1], point[0])).meters\n",
    "        if current_distance < distance:\n",
    "            distance, nearest_point = current_distance, point\n",
    "    return nearest_point\n"
   ]
  },
  {
   "cell_type": "code",
   "execution_count": 10,
   "id": "e9fbf9ef-ed0a-4627-a5d3-22e814f29696",
   "metadata": {},
   "outputs": [],
   "source": [
    "def process_hotel(G, osmid, hotel_point):\n",
    "    # Find the nearest edge to the hotel location\n",
    "    nearest_edge = ox.distance.nearest_edges(G, hotel_point.x, hotel_point.y)\n",
    "    u, v = nearest_edge[:2]\n",
    "    edge_data = G.get_edge_data(*nearest_edge)\n",
    "    \n",
    "    if 'geometry' in edge_data:\n",
    "        # If edge has geometry, modify it to include the hotel point\n",
    "        coords_list = []\n",
    "        edge_geom = LineString(list(edge_data['geometry'].coords).copy())\n",
    "        nearest_point = find_nearest_point(hotel_point, edge_geom)\n",
    "        edge_coords = list(edge_geom.coords)\n",
    "        \n",
    "        for coord in edge_coords:\n",
    "            coords_list.append(coord)\n",
    "            if calculate_distance(nearest_point, coord) < 0.1:\n",
    "                coords_list.append((hotel_point.x, hotel_point.y))\n",
    "                break\n",
    "        \n",
    "        edge_geom = LineString(coords_list)\n",
    "        \n",
    "    else:\n",
    "        # If edge has no geometry, create a line between points\n",
    "        edge_geom = LineString([\n",
    "            (G.nodes[u]['x'], G.nodes[u]['y']),\n",
    "            projection_point_on_line(\n",
    "                G.nodes[u]['x'], G.nodes[u]['y'], \n",
    "                G.nodes[v]['x'], G.nodes[v]['y'], \n",
    "                hotel_point.x, hotel_point.y\n",
    "            ),\n",
    "            (hotel_point.x, hotel_point.y)\n",
    "        ])\n",
    "    \n",
    "    # Define new edge data\n",
    "    new_edge_data = {\n",
    "        'reversed': True,\n",
    "        'length': calculate_linestring_distance_in_meters(edge_geom.coords),\n",
    "        'geometry': edge_geom\n",
    "    }\n",
    "    \n",
    "    # Add the hotel node to the graph\n",
    "    add_hotel_node(G, osmid, hotel_point)\n",
    "    G.add_edge(u, osmid, **new_edge_data)\n",
    "    \n",
    "    # If the reverse edge exists and is marked as reversed, process it as well\n",
    "    if v in G and u in G[v] and G[v][u] and edge_data['reversed']:\n",
    "        edge_data = G[v][u][0]\n",
    "        \n",
    "        if 'geometry' in edge_data:\n",
    "            # Adjust edge geometry if it has geometry data\n",
    "            coords_list = []\n",
    "            edge_geom = LineString(list(edge_data['geometry'].coords).copy())\n",
    "            nearest_point = find_nearest_point(hotel_point, edge_geom)\n",
    "            edge_coords = list(edge_geom.coords)\n",
    "            \n",
    "            for coord in edge_coords:\n",
    "                coords_list.append(coord)\n",
    "                if calculate_distance(nearest_point, coord) < 0.1:\n",
    "                    coords_list.append((hotel_point.x, hotel_point.y))\n",
    "                    break\n",
    "            \n",
    "            edge_geom = LineString(coords_list)\n",
    "        \n",
    "        else:\n",
    "            # If no geometry, create a simple line with the hotel point\n",
    "            edge_geom = LineString([\n",
    "                (G.nodes[u]['x'], G.nodes[u]['y']),\n",
    "                projection_point_on_line(\n",
    "                    G.nodes[u]['x'], G.nodes[u]['y'], \n",
    "                    G.nodes[v]['x'], G.nodes[v]['y'], \n",
    "                    hotel_point.x, hotel_point.y\n",
    "                ),\n",
    "                (hotel_point.x, hotel_point.y)\n",
    "            ])\n",
    "    \n",
    "    # Add the modified reverse edge to the graph\n",
    "    new_edge_data = {\n",
    "        'reversed': True,\n",
    "        'length': calculate_linestring_distance_in_meters(edge_geom.coords),\n",
    "        'geometry': edge_geom\n",
    "    }\n",
    "    G.add_edge(v, osmid, **new_edge_data)\n"
   ]
  },
  {
   "cell_type": "code",
   "execution_count": 15,
   "id": "6785d586-6cb3-4c1e-b7cc-e7f246f11e4c",
   "metadata": {},
   "outputs": [
    {
     "name": "stdout",
     "output_type": "stream",
     "text": [
      "Requirement already satisfied: osmnx in c:\\users\\hp\\anaconda3\\lib\\site-packages (2.0.3)\n",
      "Requirement already satisfied: geopandas in c:\\users\\hp\\anaconda3\\lib\\site-packages (1.1.0)\n",
      "Requirement already satisfied: pyproj in c:\\users\\hp\\anaconda3\\lib\\site-packages (3.7.1)\n",
      "Requirement already satisfied: networkx>=2.5 in c:\\users\\hp\\anaconda3\\lib\\site-packages (from osmnx) (3.4.2)\n",
      "Requirement already satisfied: numpy>=1.22 in c:\\users\\hp\\anaconda3\\lib\\site-packages (from osmnx) (1.26.4)\n",
      "Requirement already satisfied: pandas>=1.4 in c:\\users\\hp\\anaconda3\\lib\\site-packages (from osmnx) (2.2.3)\n",
      "Requirement already satisfied: requests>=2.27 in c:\\users\\hp\\anaconda3\\lib\\site-packages (from osmnx) (2.32.3)\n",
      "Requirement already satisfied: shapely>=2.0 in c:\\users\\hp\\anaconda3\\lib\\site-packages (from osmnx) (2.1.0)\n",
      "Requirement already satisfied: pyogrio>=0.7.2 in c:\\users\\hp\\anaconda3\\lib\\site-packages (from geopandas) (0.11.0)\n",
      "Requirement already satisfied: packaging in c:\\users\\hp\\anaconda3\\lib\\site-packages (from geopandas) (25.0)\n",
      "Requirement already satisfied: certifi in c:\\users\\hp\\anaconda3\\lib\\site-packages (from pyproj) (2025.4.26)\n",
      "Requirement already satisfied: python-dateutil>=2.8.2 in c:\\users\\hp\\anaconda3\\lib\\site-packages (from pandas>=1.4->osmnx) (2.9.0.post0)\n",
      "Requirement already satisfied: pytz>=2020.1 in c:\\users\\hp\\anaconda3\\lib\\site-packages (from pandas>=1.4->osmnx) (2025.2)\n",
      "Requirement already satisfied: tzdata>=2022.7 in c:\\users\\hp\\anaconda3\\lib\\site-packages (from pandas>=1.4->osmnx) (2025.2)\n",
      "Requirement already satisfied: six>=1.5 in c:\\users\\hp\\anaconda3\\lib\\site-packages (from python-dateutil>=2.8.2->pandas>=1.4->osmnx) (1.17.0)\n",
      "Requirement already satisfied: charset-normalizer<4,>=2 in c:\\users\\hp\\anaconda3\\lib\\site-packages (from requests>=2.27->osmnx) (3.4.2)\n",
      "Requirement already satisfied: idna<4,>=2.5 in c:\\users\\hp\\anaconda3\\lib\\site-packages (from requests>=2.27->osmnx) (3.10)\n",
      "Requirement already satisfied: urllib3<3,>=1.21.1 in c:\\users\\hp\\anaconda3\\lib\\site-packages (from requests>=2.27->osmnx) (2.4.0)\n",
      "Note: you may need to restart the kernel to use updated packages.\n"
     ]
    }
   ],
   "source": [
    "pip install --upgrade osmnx geopandas pyproj"
   ]
  },
  {
   "cell_type": "code",
   "execution_count": 17,
   "id": "0543b378-83a5-4687-a84d-b25ae043cc3b",
   "metadata": {},
   "outputs": [
    {
     "name": "stdout",
     "output_type": "stream",
     "text": [
      "Requirement already satisfied: osmnx in c:\\users\\hp\\anaconda3\\lib\\site-packages (2.0.3)\n",
      "Requirement already satisfied: geopandas>=1.0 in c:\\users\\hp\\anaconda3\\lib\\site-packages (from osmnx) (1.1.0)\n",
      "Requirement already satisfied: networkx>=2.5 in c:\\users\\hp\\anaconda3\\lib\\site-packages (from osmnx) (3.4.2)\n",
      "Requirement already satisfied: numpy>=1.22 in c:\\users\\hp\\anaconda3\\lib\\site-packages (from osmnx) (1.26.4)\n",
      "Requirement already satisfied: pandas>=1.4 in c:\\users\\hp\\anaconda3\\lib\\site-packages (from osmnx) (2.2.3)\n",
      "Requirement already satisfied: requests>=2.27 in c:\\users\\hp\\anaconda3\\lib\\site-packages (from osmnx) (2.32.3)\n",
      "Requirement already satisfied: shapely>=2.0 in c:\\users\\hp\\anaconda3\\lib\\site-packages (from osmnx) (2.1.0)\n",
      "Requirement already satisfied: pyogrio>=0.7.2 in c:\\users\\hp\\anaconda3\\lib\\site-packages (from geopandas>=1.0->osmnx) (0.11.0)\n",
      "Requirement already satisfied: packaging in c:\\users\\hp\\anaconda3\\lib\\site-packages (from geopandas>=1.0->osmnx) (25.0)\n",
      "Requirement already satisfied: pyproj>=3.5.0 in c:\\users\\hp\\anaconda3\\lib\\site-packages (from geopandas>=1.0->osmnx) (3.7.1)\n",
      "Requirement already satisfied: python-dateutil>=2.8.2 in c:\\users\\hp\\anaconda3\\lib\\site-packages (from pandas>=1.4->osmnx) (2.9.0.post0)\n",
      "Requirement already satisfied: pytz>=2020.1 in c:\\users\\hp\\anaconda3\\lib\\site-packages (from pandas>=1.4->osmnx) (2025.2)\n",
      "Requirement already satisfied: tzdata>=2022.7 in c:\\users\\hp\\anaconda3\\lib\\site-packages (from pandas>=1.4->osmnx) (2025.2)\n",
      "Requirement already satisfied: certifi in c:\\users\\hp\\anaconda3\\lib\\site-packages (from pyogrio>=0.7.2->geopandas>=1.0->osmnx) (2025.4.26)\n",
      "Requirement already satisfied: six>=1.5 in c:\\users\\hp\\anaconda3\\lib\\site-packages (from python-dateutil>=2.8.2->pandas>=1.4->osmnx) (1.17.0)\n",
      "Requirement already satisfied: charset-normalizer<4,>=2 in c:\\users\\hp\\anaconda3\\lib\\site-packages (from requests>=2.27->osmnx) (3.4.2)\n",
      "Requirement already satisfied: idna<4,>=2.5 in c:\\users\\hp\\anaconda3\\lib\\site-packages (from requests>=2.27->osmnx) (3.10)\n",
      "Requirement already satisfied: urllib3<3,>=1.21.1 in c:\\users\\hp\\anaconda3\\lib\\site-packages (from requests>=2.27->osmnx) (2.4.0)\n",
      "Note: you may need to restart the kernel to use updated packages.\n"
     ]
    }
   ],
   "source": [
    "pip install osmnx\n"
   ]
  },
  {
   "cell_type": "code",
   "execution_count": 18,
   "id": "2eab80b3-3bca-4c37-b175-ab63bd7a6564",
   "metadata": {},
   "outputs": [
    {
     "name": "stdout",
     "output_type": "stream",
     "text": [
      "Requirement already satisfied: geopandas in c:\\users\\hp\\anaconda3\\lib\\site-packages (1.1.0)\n",
      "Requirement already satisfied: pyproj in c:\\users\\hp\\anaconda3\\lib\\site-packages (3.7.1)\n",
      "Requirement already satisfied: numpy>=1.24 in c:\\users\\hp\\anaconda3\\lib\\site-packages (from geopandas) (1.26.4)\n",
      "Requirement already satisfied: pyogrio>=0.7.2 in c:\\users\\hp\\anaconda3\\lib\\site-packages (from geopandas) (0.11.0)\n",
      "Requirement already satisfied: packaging in c:\\users\\hp\\anaconda3\\lib\\site-packages (from geopandas) (25.0)\n",
      "Requirement already satisfied: pandas>=2.0.0 in c:\\users\\hp\\anaconda3\\lib\\site-packages (from geopandas) (2.2.3)\n",
      "Requirement already satisfied: shapely>=2.0.0 in c:\\users\\hp\\anaconda3\\lib\\site-packages (from geopandas) (2.1.0)\n",
      "Requirement already satisfied: certifi in c:\\users\\hp\\anaconda3\\lib\\site-packages (from pyproj) (2025.4.26)\n",
      "Requirement already satisfied: python-dateutil>=2.8.2 in c:\\users\\hp\\anaconda3\\lib\\site-packages (from pandas>=2.0.0->geopandas) (2.9.0.post0)\n",
      "Requirement already satisfied: pytz>=2020.1 in c:\\users\\hp\\anaconda3\\lib\\site-packages (from pandas>=2.0.0->geopandas) (2025.2)\n",
      "Requirement already satisfied: tzdata>=2022.7 in c:\\users\\hp\\anaconda3\\lib\\site-packages (from pandas>=2.0.0->geopandas) (2025.2)\n",
      "Requirement already satisfied: six>=1.5 in c:\\users\\hp\\anaconda3\\lib\\site-packages (from python-dateutil>=2.8.2->pandas>=2.0.0->geopandas) (1.17.0)\n",
      "Note: you may need to restart the kernel to use updated packages.\n"
     ]
    }
   ],
   "source": [
    "pip install geopandas pyproj"
   ]
  },
  {
   "cell_type": "code",
   "execution_count": 19,
   "id": "ee5b9d6d-f977-4ee4-81f6-647366e72966",
   "metadata": {},
   "outputs": [
    {
     "ename": "CRSError",
     "evalue": "Invalid projection: epsg:4326: (Internal Proj Error: proj_create: no database context specified)",
     "output_type": "error",
     "traceback": [
      "\u001b[1;31m---------------------------------------------------------------------------\u001b[0m",
      "\u001b[1;31mCRSError\u001b[0m                                  Traceback (most recent call last)",
      "Cell \u001b[1;32mIn[19], line 8\u001b[0m\n\u001b[0;32m      5\u001b[0m ox\u001b[38;5;241m.\u001b[39msettings\u001b[38;5;241m.\u001b[39mdefault_crs \u001b[38;5;241m=\u001b[39m \u001b[38;5;124m'\u001b[39m\u001b[38;5;124mepsg:4326\u001b[39m\u001b[38;5;124m'\u001b[39m\n\u001b[0;32m      7\u001b[0m \u001b[38;5;66;03m# Try to get the graph again\u001b[39;00m\n\u001b[1;32m----> 8\u001b[0m G \u001b[38;5;241m=\u001b[39m ox\u001b[38;5;241m.\u001b[39mgraph_from_place(\u001b[38;5;124m'\u001b[39m\u001b[38;5;124mFès, Fès-Meknès, Maroc\u001b[39m\u001b[38;5;124m'\u001b[39m, network_type\u001b[38;5;241m=\u001b[39m\u001b[38;5;124m'\u001b[39m\u001b[38;5;124mdrive\u001b[39m\u001b[38;5;124m'\u001b[39m)\n",
      "File \u001b[1;32m~\\anaconda3\\Lib\\site-packages\\osmnx\\graph.py:390\u001b[0m, in \u001b[0;36mgraph_from_place\u001b[1;34m(query, network_type, simplify, retain_all, truncate_by_edge, which_result, custom_filter)\u001b[0m\n\u001b[0;32m    321\u001b[0m \u001b[38;5;250m\u001b[39m\u001b[38;5;124;03m\"\"\"\u001b[39;00m\n\u001b[0;32m    322\u001b[0m \u001b[38;5;124;03mDownload and create a graph within the boundaries of some place(s).\u001b[39;00m\n\u001b[0;32m    323\u001b[0m \n\u001b[1;32m   (...)\u001b[0m\n\u001b[0;32m    387\u001b[0m \u001b[38;5;124;03mdocumentation for caveats.\u001b[39;00m\n\u001b[0;32m    388\u001b[0m \u001b[38;5;124;03m\"\"\"\u001b[39;00m\n\u001b[0;32m    389\u001b[0m \u001b[38;5;66;03m# extract the geometry from the GeoDataFrame to use in query\u001b[39;00m\n\u001b[1;32m--> 390\u001b[0m polygon \u001b[38;5;241m=\u001b[39m geocoder\u001b[38;5;241m.\u001b[39mgeocode_to_gdf(query, which_result\u001b[38;5;241m=\u001b[39mwhich_result)\u001b[38;5;241m.\u001b[39munion_all()\n\u001b[0;32m    391\u001b[0m msg \u001b[38;5;241m=\u001b[39m \u001b[38;5;124m\"\u001b[39m\u001b[38;5;124mConstructed place geometry polygon(s) to query Overpass\u001b[39m\u001b[38;5;124m\"\u001b[39m\n\u001b[0;32m    392\u001b[0m utils\u001b[38;5;241m.\u001b[39mlog(msg, level\u001b[38;5;241m=\u001b[39mlg\u001b[38;5;241m.\u001b[39mINFO)\n",
      "File \u001b[1;32m~\\anaconda3\\Lib\\site-packages\\osmnx\\geocoder.py:125\u001b[0m, in \u001b[0;36mgeocode_to_gdf\u001b[1;34m(query, which_result, by_osmid)\u001b[0m\n\u001b[0;32m    123\u001b[0m \u001b[38;5;66;03m# geocode each query, concat as GeoDataFrame rows, then set the CRS\u001b[39;00m\n\u001b[0;32m    124\u001b[0m results \u001b[38;5;241m=\u001b[39m (_geocode_query_to_gdf(q, wr, by_osmid) \u001b[38;5;28;01mfor\u001b[39;00m q, wr \u001b[38;5;129;01min\u001b[39;00m \u001b[38;5;28mzip\u001b[39m(q_list, wr_list))\n\u001b[1;32m--> 125\u001b[0m gdf \u001b[38;5;241m=\u001b[39m pd\u001b[38;5;241m.\u001b[39mconcat(results, ignore_index\u001b[38;5;241m=\u001b[39m\u001b[38;5;28;01mTrue\u001b[39;00m)\u001b[38;5;241m.\u001b[39mset_crs(settings\u001b[38;5;241m.\u001b[39mdefault_crs)\n\u001b[0;32m    127\u001b[0m msg \u001b[38;5;241m=\u001b[39m \u001b[38;5;124mf\u001b[39m\u001b[38;5;124m\"\u001b[39m\u001b[38;5;124mCreated GeoDataFrame with \u001b[39m\u001b[38;5;132;01m{\u001b[39;00m\u001b[38;5;28mlen\u001b[39m(gdf)\u001b[38;5;132;01m}\u001b[39;00m\u001b[38;5;124m rows from \u001b[39m\u001b[38;5;132;01m{\u001b[39;00m\u001b[38;5;28mlen\u001b[39m(q_list)\u001b[38;5;132;01m}\u001b[39;00m\u001b[38;5;124m queries\u001b[39m\u001b[38;5;124m\"\u001b[39m\n\u001b[0;32m    128\u001b[0m utils\u001b[38;5;241m.\u001b[39mlog(msg, level\u001b[38;5;241m=\u001b[39mlg\u001b[38;5;241m.\u001b[39mINFO)\n",
      "File \u001b[1;32m~\\anaconda3\\Lib\\site-packages\\geopandas\\geodataframe.py:1755\u001b[0m, in \u001b[0;36mGeoDataFrame.set_crs\u001b[1;34m(self, crs, epsg, inplace, allow_override)\u001b[0m\n\u001b[0;32m   1753\u001b[0m \u001b[38;5;28;01melse\u001b[39;00m:\n\u001b[0;32m   1754\u001b[0m     df \u001b[38;5;241m=\u001b[39m \u001b[38;5;28mself\u001b[39m\n\u001b[1;32m-> 1755\u001b[0m df\u001b[38;5;241m.\u001b[39mgeometry \u001b[38;5;241m=\u001b[39m df\u001b[38;5;241m.\u001b[39mgeometry\u001b[38;5;241m.\u001b[39mset_crs(\n\u001b[0;32m   1756\u001b[0m     crs\u001b[38;5;241m=\u001b[39mcrs, epsg\u001b[38;5;241m=\u001b[39mepsg, allow_override\u001b[38;5;241m=\u001b[39mallow_override, inplace\u001b[38;5;241m=\u001b[39m\u001b[38;5;28;01mTrue\u001b[39;00m\n\u001b[0;32m   1757\u001b[0m )\n\u001b[0;32m   1758\u001b[0m \u001b[38;5;28;01mreturn\u001b[39;00m df\n",
      "File \u001b[1;32m~\\anaconda3\\Lib\\site-packages\\geopandas\\_compat.py:84\u001b[0m, in \u001b[0;36mrequires_pyproj.<locals>.wrapper\u001b[1;34m(*args, **kwargs)\u001b[0m\n\u001b[0;32m     78\u001b[0m \u001b[38;5;28;01mif\u001b[39;00m \u001b[38;5;129;01mnot\u001b[39;00m HAS_PYPROJ:\n\u001b[0;32m     79\u001b[0m     \u001b[38;5;28;01mraise\u001b[39;00m \u001b[38;5;167;01mImportError\u001b[39;00m(\n\u001b[0;32m     80\u001b[0m         \u001b[38;5;124mf\u001b[39m\u001b[38;5;124m\"\u001b[39m\u001b[38;5;124mThe \u001b[39m\u001b[38;5;124m'\u001b[39m\u001b[38;5;124mpyproj\u001b[39m\u001b[38;5;124m'\u001b[39m\u001b[38;5;124m package is required for \u001b[39m\u001b[38;5;132;01m{\u001b[39;00mfunc\u001b[38;5;241m.\u001b[39m\u001b[38;5;18m__name__\u001b[39m\u001b[38;5;132;01m}\u001b[39;00m\u001b[38;5;124m to work. \u001b[39m\u001b[38;5;124m\"\u001b[39m\n\u001b[0;32m     81\u001b[0m         \u001b[38;5;124m\"\u001b[39m\u001b[38;5;124mInstall it and initialize the object with a CRS before using it.\u001b[39m\u001b[38;5;124m\"\u001b[39m\n\u001b[0;32m     82\u001b[0m         \u001b[38;5;124mf\u001b[39m\u001b[38;5;124m\"\u001b[39m\u001b[38;5;130;01m\\n\u001b[39;00m\u001b[38;5;124mImporting pyproj resulted in: \u001b[39m\u001b[38;5;132;01m{\u001b[39;00mpyproj_import_error\u001b[38;5;132;01m}\u001b[39;00m\u001b[38;5;124m\"\u001b[39m\n\u001b[0;32m     83\u001b[0m     )\n\u001b[1;32m---> 84\u001b[0m \u001b[38;5;28;01mreturn\u001b[39;00m func(\u001b[38;5;241m*\u001b[39margs, \u001b[38;5;241m*\u001b[39m\u001b[38;5;241m*\u001b[39mkwargs)\n",
      "File \u001b[1;32m~\\anaconda3\\Lib\\site-packages\\geopandas\\geoseries.py:1176\u001b[0m, in \u001b[0;36mGeoSeries.set_crs\u001b[1;34m(self, crs, epsg, inplace, allow_override)\u001b[0m\n\u001b[0;32m   1173\u001b[0m \u001b[38;5;28;01mfrom\u001b[39;00m \u001b[38;5;21;01mpyproj\u001b[39;00m \u001b[38;5;28;01mimport\u001b[39;00m CRS\n\u001b[0;32m   1175\u001b[0m \u001b[38;5;28;01mif\u001b[39;00m crs \u001b[38;5;129;01mis\u001b[39;00m \u001b[38;5;129;01mnot\u001b[39;00m \u001b[38;5;28;01mNone\u001b[39;00m:\n\u001b[1;32m-> 1176\u001b[0m     crs \u001b[38;5;241m=\u001b[39m CRS\u001b[38;5;241m.\u001b[39mfrom_user_input(crs)\n\u001b[0;32m   1177\u001b[0m \u001b[38;5;28;01melif\u001b[39;00m epsg \u001b[38;5;129;01mis\u001b[39;00m \u001b[38;5;129;01mnot\u001b[39;00m \u001b[38;5;28;01mNone\u001b[39;00m:\n\u001b[0;32m   1178\u001b[0m     crs \u001b[38;5;241m=\u001b[39m CRS\u001b[38;5;241m.\u001b[39mfrom_epsg(epsg)\n",
      "File \u001b[1;32m~\\anaconda3\\Lib\\site-packages\\pyproj\\crs\\crs.py:503\u001b[0m, in \u001b[0;36mCRS.from_user_input\u001b[1;34m(cls, value, **kwargs)\u001b[0m\n\u001b[0;32m    501\u001b[0m \u001b[38;5;28;01mif\u001b[39;00m \u001b[38;5;28misinstance\u001b[39m(value, \u001b[38;5;28mcls\u001b[39m):\n\u001b[0;32m    502\u001b[0m     \u001b[38;5;28;01mreturn\u001b[39;00m value\n\u001b[1;32m--> 503\u001b[0m \u001b[38;5;28;01mreturn\u001b[39;00m \u001b[38;5;28mcls\u001b[39m(value, \u001b[38;5;241m*\u001b[39m\u001b[38;5;241m*\u001b[39mkwargs)\n",
      "File \u001b[1;32m~\\anaconda3\\Lib\\site-packages\\pyproj\\crs\\crs.py:350\u001b[0m, in \u001b[0;36mCRS.__init__\u001b[1;34m(self, projparams, **kwargs)\u001b[0m\n\u001b[0;32m    348\u001b[0m     \u001b[38;5;28mself\u001b[39m\u001b[38;5;241m.\u001b[39m_local\u001b[38;5;241m.\u001b[39mcrs \u001b[38;5;241m=\u001b[39m projparams\n\u001b[0;32m    349\u001b[0m \u001b[38;5;28;01melse\u001b[39;00m:\n\u001b[1;32m--> 350\u001b[0m     \u001b[38;5;28mself\u001b[39m\u001b[38;5;241m.\u001b[39m_local\u001b[38;5;241m.\u001b[39mcrs \u001b[38;5;241m=\u001b[39m _CRS(\u001b[38;5;28mself\u001b[39m\u001b[38;5;241m.\u001b[39msrs)\n",
      "File \u001b[1;32m~\\anaconda3\\Lib\\site-packages\\pyproj\\_crs.pyx:2364\u001b[0m, in \u001b[0;36mpyproj._crs._CRS.__init__\u001b[1;34m()\u001b[0m\n",
      "\u001b[1;31mCRSError\u001b[0m: Invalid projection: epsg:4326: (Internal Proj Error: proj_create: no database context specified)"
     ]
    }
   ],
   "source": [
    "import osmnx as ox\n",
    "import geopandas as gpd\n",
    "\n",
    "# Set the default CRS\n",
    "ox.settings.default_crs = 'epsg:4326'\n",
    "\n",
    "# Try to get the graph again\n",
    "G = ox.graph_from_place('Fès, Fès-Meknès, Maroc', network_type='drive')\n"
   ]
  },
  {
   "cell_type": "code",
   "execution_count": null,
   "id": "d773bd1f-00a1-414f-b10d-f45f889c495b",
   "metadata": {},
   "outputs": [],
   "source": [
    "import osmnx as ox\n",
    "print(ox.__version__)"
   ]
  },
  {
   "cell_type": "code",
   "execution_count": null,
   "id": "dab2f7ed-e730-44b5-8cd3-567c803388a3",
   "metadata": {},
   "outputs": [],
   "source": [
    "import osmnx as ox\n",
    "tags = {\"amenity\": \"pharmacy\"}\n",
    "pharmacies = ox.geometries_from_place(\"Fès, Fès-Meknès, Maroc\", tags=tags)\n",
    "pharmacies.head()"
   ]
  },
  {
   "cell_type": "code",
   "execution_count": null,
   "id": "f99f1629-3e57-4c3b-b593-67729628616e",
   "metadata": {},
   "outputs": [],
   "source": [
    "pharmacy_points = [\n",
    "    ( index[1],row['geometry'])\n",
    "    for index, row in pharmacies.iterrows()\n",
    "]\n"
   ]
  },
  {
   "cell_type": "code",
   "execution_count": null,
   "id": "92d0848c-6028-4df9-b920-713916201dbf",
   "metadata": {},
   "outputs": [],
   "source": [
    "a = 1\n",
    "for i,j in pharmacy_points:\n",
    "    print(a,end='->')\n",
    "    process_pharmacy(G,i,j)\n",
    "    a+=1"
   ]
  },
  {
   "cell_type": "code",
   "execution_count": null,
   "id": "0886319b-7458-4733-8cc3-4c5afcaa6866",
   "metadata": {},
   "outputs": [],
   "source": [
    "import numpy as np\n",
    "from shapely.geometry import LineString, Point\n",
    "\n",
    "def project_and_insert_point(path_coords, point_coords):\n",
    "    \"\"\"\n",
    "    Project a point onto a path and insert it at the correct position in the path's coordinates.\n",
    "    \n",
    "    :param path_coords: List of tuples representing path coordinates [(x1, y1), (x2, y2), ...]\n",
    "    :param point_coords: Tuple representing the point's coordinates (x, y)\n",
    "    :return: New list of path coordinates with the projected point inserted\n",
    "    \"\"\"\n",
    "    path = LineString(path_coords)\n",
    "    point = Point(point_coords)\n",
    "    \n",
    "    # Find the projected position of the point on the path\n",
    "    distance = path.project(point)\n",
    "    projected_point = path.interpolate(distance)\n",
    "    projected_coords = (projected_point.x, projected_point.y)\n",
    "    \n",
    "    # Insert the projected point in the correct segment of the path\n",
    "    new_path_coords = []\n",
    "    inserted = False\n",
    "    for i in range(len(path_coords) - 1):\n",
    "        segment_start = Point(path_coords[i])\n",
    "        segment_end = Point(path_coords[i + 1])\n",
    "        segment = LineString([segment_start, segment_end])\n",
    "        \n",
    "        new_path_coords.append(path_coords[i])\n",
    "        \n",
    "        # Check if the projected point should be inserted in this segment\n",
    "        if not inserted and segment.project(projected_point) < segment.length:\n",
    "            new_path_coords.append(projected_coords)\n",
    "            inserted = True\n",
    "    \n",
    "    new_path_coords.append(path_coords[-1])  # Add the last point of the path\n",
    "    \n",
    "    # If the point wasn't inserted, add it to the end\n",
    "    if not inserted:\n",
    "        new_path_coords.append(projected_coords)\n",
    "\n",
    "    print(projected_coords)\n",
    "    return new_path_coords\n",
    "\n",
    "# Example usage\n",
    "path = [(0, 0), (1, 2), (2, 1), (3, 3)]  # Non-linear path\n",
    "point = (2, 2)\n",
    "\n",
    "new_path = project_and_insert_point(path, point)\n",
    "print(\"The new path with the projected point is:\")\n",
    "for coord in new_path:\n",
    "    print(coord)"
   ]
  },
  {
   "cell_type": "code",
   "execution_count": null,
   "id": "b0e41be0-abb9-45cf-9e23-f241b09eb20b",
   "metadata": {},
   "outputs": [],
   "source": [
    "from neo4j import GraphDatabase\n",
    "\n",
    "# Function to convert OSMnx graph nodes to Neo4j data\n",
    "def convert_nodes_osmnx_graph_to_neo4j(G):\n",
    "    # Connect to Neo4j database\n",
    "    uri = \"bolt://44.195.20.104:7687\"\n",
    "    user = \"neo4j\"\n",
    "    password = \"vendors-visibility-silicon\"\n",
    "    driver = GraphDatabase.driver(uri, auth=(user, password))\n",
    "\n",
    "    # Create a Neo4j session\n",
    "    # Changed database name from \"pharma\" to \"neo4j\"\n",
    "    with driver.session(database=\"neo4j\") as session:\n",
    "        # Loop through each node in the OSMnx graph\n",
    "        for node in G.nodes(data=True):\n",
    "            # Prepare node properties\n",
    "            properties = {\n",
    "                'osmid': node[0],\n",
    "                'y': node[1].get('y'),\n",
    "                'x': node[1].get('x')\n",
    "            }\n",
    "\n",
    "            # Check if 'pharmacy' attribute exists\n",
    "            if 'pharmacy' in node[1]:\n",
    "                properties['pharmacy'] = node[1]['pharmacy']\n",
    "\n",
    "            # Build Cypher query to create the node\n",
    "            query = \"CREATE (a:Location {osmid: $osmid, y: $y, x: $x\"\n",
    "            if 'pharmacy' in properties:\n",
    "                query += \", pharmacy: $pharmacy\"\n",
    "            query += \"})\"\n",
    "\n",
    "            # Filter valid properties (exclude callable and None values)\n",
    "            valid_properties = {k: v for k, v in properties.items() if not callable(v) and v is not None}\n",
    "\n",
    "            # Execute the query with node properties\n",
    "            session.run(query, **valid_properties)\n",
    "\n",
    "    # Close the connection\n",
    "    driver.close()\n",
    "\n",
    "# Call the function to convert the graph\n",
    "convert_nodes_osmnx_graph_to_neo4j(G)"
   ]
  },
  {
   "cell_type": "code",
   "execution_count": null,
   "id": "09c0b5e2-87a6-4875-bf19-90c76f0fd55f",
   "metadata": {},
   "outputs": [],
   "source": []
  }
 ],
 "metadata": {
  "kernelspec": {
   "display_name": "Python 3 (ipykernel)",
   "language": "python",
   "name": "python3"
  },
  "language_info": {
   "codemirror_mode": {
    "name": "ipython",
    "version": 3
   },
   "file_extension": ".py",
   "mimetype": "text/x-python",
   "name": "python",
   "nbconvert_exporter": "python",
   "pygments_lexer": "ipython3",
   "version": "3.12.3"
  }
 },
 "nbformat": 4,
 "nbformat_minor": 5
}
